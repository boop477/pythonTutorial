{
 "cells": [
  {
   "cell_type": "code",
   "execution_count": 1,
   "metadata": {},
   "outputs": [],
   "source": [
    "from IPython.display import Image\n",
    "from IPython.core.display import HTML \n",
    "%load_ext autoreload\n",
    "%autoreload 2"
   ]
  },
  {
   "cell_type": "markdown",
   "metadata": {},
   "source": [
    "# Python Tutorial\n",
    "1. Data Types / Comparisons → Here!\n",
    "2. Control Flow\n",
    "3. Function / Class\n",
    "4. Package/Module"
   ]
  },
  {
   "cell_type": "markdown",
   "metadata": {},
   "source": [
    "## Data Types\n",
    "**Variables can store data of different types, and different types can do different operations.** Python has the following data types:\n",
    "* Numeric Types  : `int`, `float`\n",
    "* Boolean Types  : `bool`. *Fun fact: Actually, `Booleans` are a subtype of `int`*\n",
    "* Sequence Types : `list`, `tuple`, `str`\n",
    "* Mapping Types : `dict`\n",
    "\n",
    "But, how do I know the type of a variable? Use a built-in function:`type()`.\n"
   ]
  },
  {
   "cell_type": "markdown",
   "metadata": {},
   "source": [
    "### Numeric Types - int and float"
   ]
  },
  {
   "cell_type": "code",
   "execution_count": 2,
   "metadata": {},
   "outputs": [
    {
     "name": "stdout",
     "output_type": "stream",
     "text": [
      "<type 'int'>\n",
      "a         :3\n",
      "a+5       :8\n",
      "a-5       :-2\n",
      "a*5       :15\n",
      "a/5       :0, This is weird, see note A\n",
      "a%2       :1\n",
      "a**3      :27\n",
      "\n",
      "<type 'float'>\n",
      "b         :3.0\n",
      "b+5       :8.0\n",
      "b-5       :-2.0\n",
      "b*5       :15.0\n",
      "b/5       :0.6\n"
     ]
    }
   ],
   "source": [
    "# Numeric types and operators\n",
    "a = 3\n",
    "print (type(a))\n",
    "print (\"{:<10}:{}\".format(\"a\", a))     # a\n",
    "print (\"{:<10}:{}\".format(\"a+5\", a+5)) # Sum\n",
    "print (\"{:<10}:{}\".format(\"a-5\", a-5)) # Difference\n",
    "print (\"{:<10}:{}\".format(\"a*5\", a*5)) # Product\n",
    "print (\"{:<10}:{}, {}\".format(\"a/5\", a/5, \"This is weird, see note A\")) # Quotion\n",
    "print (\"{:<10}:{}\".format(\"a%2\", a%2)) # Module\n",
    "print (\"{:<10}:{}\\n\".format(\"a**3\", a**3)) # Power\n",
    "\n",
    "b = 3.0\n",
    "print (type(b))\n",
    "print (\"{:<10}:{}\".format(\"b\", b))     # a\n",
    "print (\"{:<10}:{}\".format(\"b+5\", b+5.0)) # Sum\n",
    "print (\"{:<10}:{}\".format(\"b-5\", b-5.0)) # Difference\n",
    "print (\"{:<10}:{}\".format(\"b*5\", b*5.0)) # Product\n",
    "print (\"{:<10}:{}\".format(\"b/5\", b/5.0)) # Quotion"
   ]
  },
  {
   "cell_type": "markdown",
   "metadata": {},
   "source": [
    "**Note A: `3/5 = 0.6`, but the result is `0`?**\n",
    "\n",
    "Both `3` and `5` are `int`, and if the operands have the same numeric types, the result of the operation will also be in the same numeric types. In this case, the result is `int`, and `0.6` is round to `0(int)` with the digits after the decimal point removed.\n",
    "\n",
    "**But I need 0.6, not 0 :(**\n",
    "\n",
    "Python suppoorts mixed arithmetic! When one of operands is `float`, then the result will also be `float`. You need to convert operands to `float` with `float()` "
   ]
  },
  {
   "cell_type": "code",
   "execution_count": 3,
   "metadata": {
    "scrolled": true
   },
   "outputs": [
    {
     "name": "stdout",
     "output_type": "stream",
     "text": [
      "a         :3   , <type 'int'>\n",
      "b         :5   , <type 'int'>\n",
      "float(b)  :5.0 , <type 'float'>\n",
      "a/b       :0   , Nope, not this one!\n",
      "a/float(b):0.6 , Yah :)\n",
      "float(a)/b:0.6 , Yah :)\n"
     ]
    }
   ],
   "source": [
    "a = 3\n",
    "b = 5\n",
    "print (\"{:<10}:{:<4}, {}\".format(\"a\", a, type(a)))     # a\n",
    "print (\"{:<10}:{:<4}, {}\".format(\"b\", b, type(b)))     # b\n",
    "print (\"{:<10}:{:<4}, {}\".format(\"float(b)\", float(b), type(float(b))))     # b\n",
    "\n",
    "print (\"{:<10}:{:<4}, {}\".format(\"a/b\", a/b, \"Nope, not this one!\"))  # Quotion without mixed arithmetic\n",
    "print (\"{:<10}:{:<4}, {}\".format(\"a/float(b)\", a/float(b), \"Yah :)\")) # Quotion with mixed arithmetic\n",
    "print (\"{:<10}:{:<4}, {}\".format(\"float(a)/b\", float(a)/b, \"Yah :)\")) # Quotion with mixed arithmetic"
   ]
  },
  {
   "cell_type": "markdown",
   "metadata": {},
   "source": [
    "### Boolean Types"
   ]
  },
  {
   "cell_type": "code",
   "execution_count": 4,
   "metadata": {
    "scrolled": true
   },
   "outputs": [
    {
     "name": "stdout",
     "output_type": "stream",
     "text": [
      "a                   :True, <type 'bool'>\n",
      "b                   :False, <type 'bool'>\n",
      "\n",
      "a and b and False   :False\n",
      "a and b and True    :False\n",
      "a or b or False     :True\n",
      "a or b or True      :True\n",
      "not a               :False\n"
     ]
    }
   ],
   "source": [
    "# Booleans and Boolean Operations\n",
    "a, b = True, False\n",
    "print (\"{:<20}:{}, {}\".format(\"a\", a, type(a)))     # a\n",
    "print (\"{:<20}:{}, {}\\n\".format(\"b\", b, type(b)))     # a\n",
    "\n",
    "print (\"{:<20}:{}\".format(\"a and b and False\", a and b and False))\n",
    "print (\"{:<20}:{}\".format(\"a and b and True\", a and b and True))\n",
    "print (\"{:<20}:{}\".format(\"a or b or False\", a or b or False))\n",
    "print (\"{:<20}:{}\".format(\"a or b or True\", a or b or True))\n",
    "print (\"{:<20}:{}\".format(\"not a\", not a))"
   ]
  },
  {
   "cell_type": "markdown",
   "metadata": {},
   "source": [
    "### Sequence Types - str"
   ]
  },
  {
   "cell_type": "markdown",
   "metadata": {},
   "source": [
    "* **[Basic]** String needs to be enclosed with single strokes or double strokes"
   ]
  },
  {
   "cell_type": "code",
   "execution_count": 5,
   "metadata": {},
   "outputs": [
    {
     "name": "stdout",
     "output_type": "stream",
     "text": [
      "a              :hello <type 'str'>\n",
      "b              :world <type 'str'>\n",
      "empty          :      <type 'str'>\n"
     ]
    }
   ],
   "source": [
    "a = \"hello\" # With double strokes\n",
    "b = 'world' # WIth single strokes\n",
    "empty = \"\"  # An Empty string is acceptable\n",
    "print (\"{:<15}:{:<5} {}\".format(\"a\", a, type(a)))\n",
    "print (\"{:<15}:{:<5} {}\".format(\"b\",b, type(b)))\n",
    "print (\"{:<15}:{:<5} {}\".format(\"empty\",empty, type(empty)))"
   ]
  },
  {
   "cell_type": "markdown",
   "metadata": {},
   "source": [
    "* **[Operators]** : String can be concatenated with `+` operators and be repeated with `*` operators."
   ]
  },
  {
   "cell_type": "code",
   "execution_count": 6,
   "metadata": {},
   "outputs": [
    {
     "name": "stdout",
     "output_type": "stream",
     "text": [
      "cat            :hello world \n",
      "cat*3          :hello world hello world hello world \n"
     ]
    }
   ],
   "source": [
    "cat = a + \" \" + b + \" \"\n",
    "print (\"{:<15}:{}\".format(\"cat\", cat)) # Concatenate with +\n",
    "print (\"{:<15}:{}\".format(\"cat*3\", cat*3)) # Repeat with *"
   ]
  },
  {
   "cell_type": "markdown",
   "metadata": {},
   "source": [
    "* **[Print single strokes in a string]** : If you want to print single strokes, you can use the following two ways:\n",
    "    1. Enclose a string with DOUBLE strokes, then you can use single strokes in the string.\n",
    "    2. Use the escape character: \\"
   ]
  },
  {
   "cell_type": "code",
   "execution_count": 7,
   "metadata": {},
   "outputs": [
    {
     "name": "stdout",
     "output_type": "stream",
     "text": [
      "This is a single stroke:'\n",
      "This is a single stroke:'\n"
     ]
    }
   ],
   "source": [
    "print (\"This is a single stroke:'\")  # 1. Enclose a string with DOUBLE strokes, then you can use single strokes in the string.\n",
    "print ('This is a single stroke:\\'') # 2. Use the escape character: \\"
   ]
  },
  {
   "cell_type": "markdown",
   "metadata": {},
   "source": [
    "* **[Indexing]** : You can access a characters with brackets enclosing the index of the character.\n",
    "\n",
    "![](https://imgur.com/yfD6xMv.png)"
   ]
  },
  {
   "cell_type": "code",
   "execution_count": 8,
   "metadata": {
    "scrolled": true
   },
   "outputs": [
    {
     "name": "stdout",
     "output_type": "stream",
     "text": [
      "cat            :hello world\n",
      "cat[0]         :h\n",
      "cat[-11]       :h\n",
      "cat[10]        :d\n",
      "cat[-1]        :d\n",
      "cat[6]         :w\n",
      "cat[-5]        :w\n",
      "Hello world\n"
     ]
    }
   ],
   "source": [
    "cat = \"hello world\"\n",
    "print (\"{:<15}:{}\".format(\"cat\", cat))\n",
    "print (\"{:<15}:{}\".format(\"cat[0]\", cat[0]))\n",
    "print (\"{:<15}:{}\".format(\"cat[-11]\", cat[-11]))\n",
    "print (\"{:<15}:{}\".format(\"cat[10]\", cat[10]))\n",
    "print (\"{:<15}:{}\".format(\"cat[-1]\", cat[-1]))\n",
    "print (\"{:<15}:{}\".format(\"cat[6]\", cat[6]))\n",
    "print (\"{:<15}:{}\".format(\"cat[-5]\", cat[-5]))\n",
    "\n",
    "print (cat[0].upper()+cat[1:])"
   ]
  },
  {
   "cell_type": "markdown",
   "metadata": {},
   "source": [
    "**Note!** : Strings are *immutable*, which means that you can't assign a new character with indexing!\n",
    "```python\n",
    "cat = \"hello world\"\n",
    "cat[0] = 'H' # This line will raise an error!\n",
    "```"
   ]
  },
  {
   "cell_type": "markdown",
   "metadata": {},
   "source": [
    "* **[Slicing]** : Indexing allows you to access *single character*; slicing allows you to access *substrings*.\n",
    "    ``` bash\n",
    "    string_a[start_index : end_index] : Get a slice from start_index(INCLUDE) to end_index(EXCLUDE)\n",
    "    ```"
   ]
  },
  {
   "cell_type": "code",
   "execution_count": 9,
   "metadata": {},
   "outputs": [
    {
     "name": "stdout",
     "output_type": "stream",
     "text": [
      "cat            :hello world\n",
      "cat[0:5]       :hello\n",
      "cat[:5]        :hello\n",
      "cat[-11:-6]    :hello\n",
      "cat[6:len(cat)]:world\n",
      "cat[6:]        :world\n"
     ]
    }
   ],
   "source": [
    "cat = \"hello world\"\n",
    "print (\"{:<15}:{}\".format(\"cat\", cat))\n",
    "print (\"{:<15}:{}\".format(\"cat[0:5]\", cat[0:5])) # Get a substring starting from index 0('h') to index 4('o').\n",
    "print (\"{:<15}:{}\".format(\"cat[:5]\", cat[:5]))  # If you want to start from index 0, you can omit it.\n",
    "print (\"{:<15}:{}\".format(\"cat[-11:-6]\", cat[-11:-6])) # Negative indices also work :)\n",
    "print (\"{:<15}:{}\".format(\"cat[6:len(cat)]\", cat[6:len(cat)])) # Get a substring starting from index 0('h') to the end.\n",
    "print (\"{:<15}:{}\".format(\"cat[6:]\", cat[6:]))  # If you omit the end_index, then python will slices from start_index to the end."
   ]
  },
  {
   "cell_type": "markdown",
   "metadata": {},
   "source": [
    "* **[Some Useful bulit-in functions]**\n",
    "    * `len(str_a)` : Get the length of the `str_a`.\n",
    "    * `split(sep)` : Get a list of words in the string, using `sep` as the delimeter.\n",
    "    * `replace(sub_str_old, sub_str_new)` : Return a string with all `sub_str_old` replaced by `sub_str_new`."
   ]
  },
  {
   "cell_type": "code",
   "execution_count": 10,
   "metadata": {},
   "outputs": [
    {
     "name": "stdout",
     "output_type": "stream",
     "text": [
      "path                       :./dumdum/Desktop/silly_cat.jpg\n",
      "path[:len(path)-4]         :./dumdum/Desktop/silly_cat\n",
      "path.split('/')            :['.', 'dumdum', 'Desktop', 'silly_cat.jpg']\n",
      "path.replace('jpg', 'png') :./dumdum/Desktop/silly_cat.png\n"
     ]
    }
   ],
   "source": [
    "path = './dumdum/Desktop/silly_cat.jpg'\n",
    "print (\"{:<27}:{}\".format(\"path\", path))\n",
    "print (\"{:<27}:{}\".format(\"path[:len(path)-4]\", path[:len(path)-4])) # Combine slicing and len()\n",
    "print (\"{:<27}:{}\".format(\"path.split('/')\", path.split(\"/\"))) # Split into substrings\n",
    "print (\"{:<27}:{}\".format(\"path.replace('jpg', 'png')\", path.replace('jpg', 'png'))) # Replace 'jpg' into 'png'"
   ]
  },
  {
   "cell_type": "markdown",
   "metadata": {},
   "source": [
    "### Sequence Types - list"
   ]
  },
  {
   "cell_type": "markdown",
   "metadata": {},
   "source": [
    "* **[Basic]** A List needs to be enclosed with brackets, and it can contains items of different types."
   ]
  },
  {
   "cell_type": "code",
   "execution_count": 11,
   "metadata": {},
   "outputs": [
    {
     "name": "stdout",
     "output_type": "stream",
     "text": [
      "a    :[12, 12.0, '12', ['cute', 'tiny', 'list', ':)']] <type 'list'>\n",
      "Is '12' in the list? : True\n",
      "Is 'poo' in the list?: False\n"
     ]
    }
   ],
   "source": [
    "a = [12, 12.0, \"12\", [\"cute\", \"tiny\", \"list\", \":)\"]] # Create a list\n",
    "print (\"{:<5}:{} {}\".format(\"a\", a, type(a)))\n",
    "\n",
    "print (\"{}: {}\".format(\"Is '12' in the list? \", '12' in a)) # Check if an item is in the list.\n",
    "print (\"{}: {}\".format(\"Is 'poo' in the list?\", 'poo' in a))"
   ]
  },
  {
   "cell_type": "markdown",
   "metadata": {},
   "source": [
    "* **[Operators]** : Lists can be concatenated with `+` operators and be repeated with `*` operators."
   ]
  },
  {
   "cell_type": "code",
   "execution_count": 12,
   "metadata": {},
   "outputs": [
    {
     "name": "stdout",
     "output_type": "stream",
     "text": [
      "a    :[1, 2, 3]\n",
      "b    :[4, 5, 6]\n",
      "a+b  :[1, 2, 3, 4, 5, 6]\n",
      "a*3  :[1, 2, 3, 1, 2, 3, 1, 2, 3]\n"
     ]
    }
   ],
   "source": [
    "a = [1, 2, 3]\n",
    "b = [4, 5, 6]\n",
    "print (\"{:<5}:{}\".format(\"a\", a))\n",
    "print (\"{:<5}:{}\".format(\"b\", b))\n",
    "print (\"{:<5}:{}\".format(\"a+b\", a+b))\n",
    "print (\"{:<5}:{}\".format(\"a*3\", a*3))\n"
   ]
  },
  {
   "cell_type": "markdown",
   "metadata": {},
   "source": [
    "* **[Indexing and slicing]** : Similar to strings. Yet, lists are *MUTABLE* objects, you can assign new item with indexing and slicing!"
   ]
  },
  {
   "cell_type": "code",
   "execution_count": 13,
   "metadata": {
    "scrolled": true
   },
   "outputs": [
    {
     "name": "stdout",
     "output_type": "stream",
     "text": [
      "b\n",
      "['Under', 'rough', 'skies', 'survey', 'a', 'day', 'around.', 'Charging', 'through', 'doors,', 'going', 'SATORI', 'nowhere', 'everywhere.']\n",
      "\n",
      "1. Slicing\n",
      "a            :['Under', 'rough', 'skies', 'survey', 'a', 'day', 'around.']\n",
      "b            :['Charging', 'through', 'doors,', 'going', 'SATORI', 'nowhere', 'everywhere.']\n",
      "\n",
      "Found 'SATORI' with index 4. Remove the item with this index\n",
      "2. Indexing\n",
      "b            :['Charging', 'through', 'doors,', 'going', 'nowhere', 'everywhere.']\n",
      "\n",
      "3. Concat to strings\n",
      "a to string  :Under rough skies survey a day around.\n",
      "b to string  :Charging through doors, going nowhere everywhere.\n"
     ]
    }
   ],
   "source": [
    "b = [\"Under\", \"rough\", \"skies\", \"survey\", \"a\", \"day\", \"around.\", \"Charging\", \"through\" , \"doors,\", \"going\" ,\"SATORI\", \"nowhere\", \"everywhere.\"]\n",
    "\n",
    "print (\"b\")\n",
    "print (b)\n",
    "print (\"\")\n",
    "\n",
    "a = b[:7]  # Slicing\n",
    "b[:7] = [] # Remove the sublist with slicing \n",
    "print (\"1. Slicing\")\n",
    "print (\"{:<13}:{}\".format(\"a\", a))\n",
    "print (\"{:<13}:{}\\n\".format(\"b\", b))\n",
    "\n",
    "try:\n",
    "    del_idx = b.index(\"SATORI\")\n",
    "    print (\"Found 'SATORI' with index {}. Remove the item with this index\".format(del_idx))\n",
    "    del b[del_idx]  # Remove the item with the given index\n",
    "except ValueError:\n",
    "    print (\"Index not found\")\n",
    "    del_idx = None\n",
    "    \n",
    "print (\"2. Indexing\")\n",
    "print (\"{:<13}:{}\\n\".format(\"b\", b))\n",
    "\n",
    "\n",
    "print (\"3. Concat to strings\")\n",
    "print (\"{:<13}:{}\".format(\"a to string\", \" \".join(a))) # Concat a list to a strings\n",
    "print (\"{:<13}:{}\".format(\"b to string\", \" \".join(b)))"
   ]
  },
  {
   "cell_type": "markdown",
   "metadata": {},
   "source": [
    "* **[Some Usefule bulit-in functions]**\n",
    "    * `append(sth)` : add `sth` to the end of the list."
   ]
  },
  {
   "cell_type": "code",
   "execution_count": 14,
   "metadata": {},
   "outputs": [
    {
     "name": "stdout",
     "output_type": "stream",
     "text": [
      "Before append\n",
      "[   'Fire on the mountain, run boys run',\n",
      "    \"The devil's in the house of the rising sun\",\n",
      "    \"Chicken in the bread pan pickin' out dough\"]\n",
      "\n",
      "After append\n",
      "[   'Fire on the mountain, run boys run',\n",
      "    \"The devil's in the house of the rising sun\",\n",
      "    \"Chicken in the bread pan pickin' out dough\",\n",
      "    'Granny does your dog bite, no child no']\n"
     ]
    }
   ],
   "source": [
    "import pprint\n",
    "pp = pprint.PrettyPrinter(indent=4)\n",
    "     \n",
    "a = [\"Fire on the mountain, run boys run\",\n",
    "     \"The devil's in the house of the rising sun\",\n",
    "     \"Chicken in the bread pan pickin' out dough\"]\n",
    "_a = \"Granny does your dog bite, no child no\"\n",
    "\n",
    "print (\"Before append\")\n",
    "pp.pprint(a)\n",
    "\n",
    "a.append(_a) # Use 'apend' to add _a to a\n",
    "\n",
    "print (\"\\nAfter append\")\n",
    "pp.pprint(a)"
   ]
  },
  {
   "cell_type": "markdown",
   "metadata": {},
   "source": [
    "### Mapping Types - Dictionary"
   ]
  },
  {
   "cell_type": "markdown",
   "metadata": {},
   "source": [
    "* **[Basic]** : A dictionary consists of key-value pairs. Every key should be unique.\n",
    "```python\n",
    "dict2 = {\"Key1\" : 12, \"Key1\" : 13.4, \"Key3\": \"Red\"} # Don't do this, though this will not raise any error.\n",
    "```"
   ]
  },
  {
   "cell_type": "code",
   "execution_count": 15,
   "metadata": {},
   "outputs": [
    {
     "name": "stdout",
     "output_type": "stream",
     "text": [
      "dict_a :{'Key3': 14, 'Key2': 13, 'Key1': 12} <type 'dict'>\n",
      "Is key 'Key1' in the dictionary?: True\n",
      "Is key 'Key4' in the dictionary?: False\n",
      "\n",
      "dict_a :{'Key3': 14, 'Key2': 13, 'Key1': 'Green', 'Key4': 'Blue'}\n",
      "\n",
      "Delete Key4\n",
      "dict_a :{'Key3': 14, 'Key2': 13, 'Key1': 'Green'}\n"
     ]
    }
   ],
   "source": [
    "dict_a = {\"Key1\" : 12, \"Key2\" : 13, \"Key3\": 14} # Create dictinoaries\n",
    "\n",
    "print (\"{:<7}:{} {}\".format(\"dict_a\", dict_a, type(dict_a)))\n",
    "\n",
    "print (\"{}: {}\".format(\"Is key 'Key1' in the dictionary?\", 'Key1' in dict_a)) # Check if the dictionary has the given key.\n",
    "print (\"{}: {}\\n\".format(\"Is key 'Key4' in the dictionary?\", 'Key4' in dict_a))\n",
    "\n",
    "dict_a[\"Key4\"] = \"Blue\" # Add a key-value pair to dict_a\n",
    "dict_a[\"Key1\"] = \"Green\" # Replace the value of \"Key1\"\n",
    "print (\"{:<7}:{}\\n\".format(\"dict_a\", dict_a))\n",
    "\n",
    "\n",
    "deleted_key = \"Key4\"\n",
    "try:\n",
    "    del dict_a[deleted_key] # Delete a key-valie pair from the dictionary.\n",
    "    print (\"Delete {}\".format(deleted_key))\n",
    "except KeyError:\n",
    "    print (\"Failed to delete key {}\".format(deleted_key))\n",
    "print (\"{:<7}:{}\".format(\"dict_a\", dict_a))\n"
   ]
  },
  {
   "cell_type": "markdown",
   "metadata": {},
   "source": [
    "## Comparisons\n",
    "There are 8 types of comparison operators in python:\n",
    "1. `<` : less than\n",
    "2. `<=` : less than or equal to\n",
    "3. `>` : greater than\n",
    "4. `>` : greater than or equal to\n",
    "5. `==` : equal\n",
    "    * `a = b` means assign `b` to `a`.\n",
    "6. `!=` : not equal\n",
    "7. `is` : object identity.\n",
    "8. `is not` : negated object identity."
   ]
  },
  {
   "cell_type": "code",
   "execution_count": 16,
   "metadata": {},
   "outputs": [
    {
     "name": "stdout",
     "output_type": "stream",
     "text": [
      "True\n",
      "True\n",
      "False\n"
     ]
    }
   ],
   "source": [
    "a = 3250\n",
    "b = a # Assign a to b\n",
    "print (a == b)\n",
    "print (a is b)\n",
    "print (a is not b)"
   ]
  },
  {
   "cell_type": "code",
   "execution_count": 17,
   "metadata": {},
   "outputs": [
    {
     "name": "stdout",
     "output_type": "stream",
     "text": [
      "True\n",
      "False\n",
      "True\n"
     ]
    }
   ],
   "source": [
    "a = 3250\n",
    "b = 3250\n",
    "print (a == b)\n",
    "print (a is b)\n",
    "print (a is not b)"
   ]
  }
 ],
 "metadata": {
  "kernelspec": {
   "display_name": "Python 3",
   "language": "python",
   "name": "python3"
  },
  "language_info": {
   "codemirror_mode": {
    "name": "ipython",
    "version": 2
   },
   "file_extension": ".py",
   "mimetype": "text/x-python",
   "name": "python",
   "nbconvert_exporter": "python",
   "pygments_lexer": "ipython2",
   "version": "2.7.15"
  }
 },
 "nbformat": 4,
 "nbformat_minor": 2
}
