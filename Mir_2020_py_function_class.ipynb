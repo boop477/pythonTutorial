{
 "cells": [
  {
   "cell_type": "code",
   "execution_count": 1,
   "metadata": {},
   "outputs": [],
   "source": [
    "from IPython.display import Image\n",
    "from IPython.core.display import HTML \n",
    "%load_ext autoreload\n",
    "%autoreload 2"
   ]
  },
  {
   "cell_type": "markdown",
   "metadata": {},
   "source": [
    "# Python Tutorial\n",
    "Be friends with Python:), what you are going to learn:\n",
    "1. Data Types\n",
    "2. Control Flow\n",
    "3. Function/Class → Here!\n",
    "4. Module"
   ]
  },
  {
   "cell_type": "markdown",
   "metadata": {},
   "source": [
    "## Function\n",
    "Functions break the program into chunks and make the program more readable and organized.\n",
    "```python\n",
    "def function_name(arg1, arg2, arg3_with_default=default3):\n",
    "    #statements.\n",
    "    return ret_vals # Optional\n",
    "```"
   ]
  },
  {
   "cell_type": "code",
   "execution_count": 5,
   "metadata": {},
   "outputs": [
    {
     "name": "stdout",
     "output_type": "stream",
     "text": [
      "pool :[63, 98, 71, 71, 5]\n",
      "even :[98]\n",
      "odd  :[63, 71, 71, 5]\n",
      "\n",
      "pool :[57, 38, 35, 96, 27, 67, 18, 18, 3, 3]\n",
      "even :[38, 96, 18, 18]\n",
      "odd  :[57, 35, 27, 67, 3, 3]\n",
      "\n",
      "pool :[29, 43, 14, 8, 10, 45, 9, 60, 3, 64, 27, 52, 13, 65, 97, 30, 58, 84, 40, 94]\n",
      "even :[14, 8, 10, 60, 64, 52, 30, 58, 84, 40, 94]\n",
      "odd  :[29, 43, 45, 9, 3, 27, 13, 65, 97]\n",
      "\n"
     ]
    }
   ],
   "source": [
    "# Without using functions\n",
    "# Randomly create a list, and group even and odd numbers. Repeat 3 times.\n",
    "import random\n",
    "\n",
    "pool = [int(random.random()*100) for i in range(5)] # 1st time\n",
    "even = []\n",
    "odd = []\n",
    "for num in pool:\n",
    "    if num % 2 == 0:\n",
    "        even.append(num)\n",
    "        continue\n",
    "    odd.append(num)\n",
    "    \n",
    "print (\"{:<5}:{}\".format(\"pool\", pool))\n",
    "print (\"{:<5}:{}\".format(\"even\", even))\n",
    "print (\"{:<5}:{}\\n\".format(\"odd\", odd))\n",
    "\n",
    "pool = [int(random.random()*100) for i in range(10)] # 2nd time\n",
    "even = []\n",
    "odd = []\n",
    "for num in pool:\n",
    "    if num % 2 == 0:\n",
    "        even.append(num)\n",
    "        continue\n",
    "    odd.append(num)\n",
    "    \n",
    "print (\"{:<5}:{}\".format(\"pool\", pool))\n",
    "print (\"{:<5}:{}\".format(\"even\", even))\n",
    "print (\"{:<5}:{}\\n\".format(\"odd\", odd))\n",
    "\n",
    "pool = [int(random.random()*100) for i in range(20)] # 3rd time\n",
    "even = []\n",
    "odd = []\n",
    "for num in pool:\n",
    "    if num % 2 == 0:\n",
    "        even.append(num)\n",
    "        continue\n",
    "    odd.append(num)\n",
    "    \n",
    "print (\"{:<5}:{}\".format(\"pool\", pool))\n",
    "print (\"{:<5}:{}\".format(\"even\", even))\n",
    "print (\"{:<5}:{}\\n\".format(\"odd\", odd))\n"
   ]
  },
  {
   "cell_type": "code",
   "execution_count": 37,
   "metadata": {},
   "outputs": [
    {
     "name": "stdout",
     "output_type": "stream",
     "text": [
      "pool :[67, 64, 99, 39, 19]\n",
      "even :[64]\n",
      "odd  :[67, 99, 39, 19]\n",
      "\n",
      "pool :[10, 31, 52, 32, 24, 61, 94, 39, 57, 80]\n",
      "even :[10, 52, 32, 24, 94, 80]\n",
      "odd  :[31, 61, 39, 57]\n",
      "\n",
      "pool :[41, 57, 63, 14, 42, 5, 93, 25, 51, 41, 45, 85, 17, 86, 52]\n",
      "even :[14, 42, 86, 52]\n",
      "odd  :[41, 57, 63, 5, 93, 25, 51, 41, 45, 85, 17]\n",
      "\n",
      "Returned variables\n",
      "pool :[41, 57, 63, 14, 42, 5, 93, 25, 51, 41, 45, 85, 17, 86, 52]\n",
      "even :[14, 42, 86, 52]\n",
      "odd  :[41, 57, 63, 5, 93, 25, 51, 41, 45, 85, 17]\n",
      "\n"
     ]
    }
   ],
   "source": [
    "# With functions\n",
    "# Randomly create a list, and group even and odd numbers. Repeat 3 times.\n",
    "import random\n",
    "\n",
    "def createAndGroup(length):\n",
    "    pool = [int(random.random()*100) for i in range(length)]\n",
    "    even = []\n",
    "    odd = []\n",
    "    for num in pool:\n",
    "        if num % 2 == 0:\n",
    "            even.append(num)\n",
    "            continue\n",
    "        odd.append(num)\n",
    "        \n",
    "    print (\"{:<5}:{}\".format(\"pool\", pool))\n",
    "    print (\"{:<5}:{}\".format(\"even\", even))\n",
    "    print (\"{:<5}:{}\\n\".format(\"odd\", odd))\n",
    "    \n",
    "    return pool, even, odd\n",
    "\n",
    "pool, even, odd = createAndGroup(5)\n",
    "pool, even, odd = createAndGroup(10)\n",
    "pool, even, odd = createAndGroup(15)\n",
    "\n",
    "print (\"Returned variables\")\n",
    "print (\"{:<5}:{}\".format(\"pool\", pool))\n",
    "print (\"{:<5}:{}\".format(\"even\", even))\n",
    "print (\"{:<5}:{}\\n\".format(\"odd\", odd))"
   ]
  },
  {
   "cell_type": "code",
   "execution_count": 26,
   "metadata": {},
   "outputs": [
    {
     "name": "stdout",
     "output_type": "stream",
     "text": [
      "Hello, Magenta. \n",
      "HELLO, MAGENTA. \n",
      "Hello, Magenta. :) \n",
      "HELLO, MAGENTA. :) \n",
      "HELLO, MAGENTA. HELLO, MAGENTA. HELLO, MAGENTA. \n",
      "Hello, Magenta. Hello, Magenta. Hello, Magenta. \n",
      "Hello, Magenta. Hello, Magenta. Hello, Magenta. \n",
      "HELLO, TOM. HELLO, TOM. HELLO, TOM. HELLO, TOM. \n"
     ]
    }
   ],
   "source": [
    "def greeting(name, uppercase=False, smile=False, repeat=1):\n",
    "    greet_str = \"Hello, {}.\".format(name)\n",
    "    if uppercase == True:\n",
    "        greet_str = greet_str.upper()\n",
    "    if smile == True: # What will happen if I use 'elif', not 'if' ?\n",
    "        greet_str = greet_str + \" :)\"\n",
    "        \n",
    "    greet_str = \"{} \".format(greet_str) * repeat\n",
    "    print (greet_str)\n"
   ]
  },
  {
   "cell_type": "markdown",
   "metadata": {},
   "source": [
    "```python\n",
    "def greeting(name, uppercase=False, smile=False, repeat=1):\n",
    "    pass\n",
    "```\n",
    "**Two ways to pass arguments**: `Positional arguments` and `Keyword arguments`.\n",
    "* `Positional arguments` : Pass values to arguments according to their order.\n",
    "    ```python\n",
    "        greeting(\"Tom\", True, False, 4)\n",
    "        \"\"\"\n",
    "        Follow the order:\n",
    "            name = \"Tom\n",
    "            uppercase = True\n",
    "            smile = False\n",
    "            repeat = 4\n",
    "        \"\"\"\n",
    "    ```\n",
    "* `Keyword arguments` : Pass values to arguments by keyworld-value pairs: `name_of_arg=assigned_value`\n",
    "    ```python\n",
    "        greeting(repeat=4, name=\"Tom\", uppercase=True, smile=False)\n",
    "        \"\"\"\n",
    "        Follow key-value pairs\n",
    "            name = \"Tom\n",
    "            uppercase = True\n",
    "            smile = False\n",
    "            repeat = 4\n",
    "        \"\"\"\n",
    "    ```\n",
    "You can mix two ways, but make sure positional arguments come in front of keyword arguments.\n",
    "    ```python\n",
    "        greeting(\"Tom\", True, smile=True, repeat=2)\n",
    "    ```\n",
    "    \n",
    "**Two types of arguments**: `Mandatory arguments` and `Optional arguments`.\n",
    "* `Mandatory arguments`: `name`. To use the function, you *must* pass value to this argument.\n",
    "* `Optional arguments`: `upeercase=False`, `smile=False`, `repeat=1`. You can omit these arguments. These arguments are assigned to default value, and if you do not assign value to them, the function will use those default value."
   ]
  },
  {
   "cell_type": "code",
   "execution_count": 36,
   "metadata": {
    "scrolled": false
   },
   "outputs": [
    {
     "name": "stdout",
     "output_type": "stream",
     "text": [
      "Hello, Magenta. \n",
      "Hello, Magenta. \n",
      "HELLO, MAGENTA. \n",
      "HELLO, MAGENTA. \n",
      "HELLO, MAGENTA. :) \n",
      "HELLO, MAGENTA. HELLO, MAGENTA. HELLO, MAGENTA. \n",
      "Hello, Magenta. Hello, Magenta. Hello, Magenta. \n",
      "Hello, Magenta. :) Hello, Magenta. :) Hello, Magenta. :) \n"
     ]
    }
   ],
   "source": [
    "greeting(\"Magenta\")                 # (Positional)/(Mandatory)\n",
    "greeting(name=\"Magenta\")            # (Keyword)/(Mandatory)\n",
    "#greeting(uppercase=True)           # (Keyword)/(Optional) Broken, miss mandatory arguments\n",
    "greeting(\"Magenta\", True)           # (Positional)/(Mandatory + Optional)\n",
    "greeting(\"Magenta\", uppercase=True) # (Positional + Keyword)/(Mandatory + Optional)\n",
    "#greeting(name=True, \"Magenta\")     # (Positional + Keyword)/(Mandatory + Optional) Broken, positional args behind keyword args\n",
    "\n",
    "greeting(\"Magenta\", uppercase=True, smile=True)\n",
    "greeting(\"Magenta\", uppercase=True, repeat=3)\n",
    "greeting(\"Magenta\", uppercase=False, repeat=3)\n",
    "greeting(name=\"Magenta\", uppercase=False, repeat=3, smile=True)\n",
    "    "
   ]
  },
  {
   "cell_type": "markdown",
   "metadata": {},
   "source": [
    "## Class\n",
    "I'm too lazy to write this lecture :(\n",
    "\n",
    "[Read Tutorial](https://docs.python.org/3/tutorial/classes.html)\n"
   ]
  },
  {
   "cell_type": "code",
   "execution_count": null,
   "metadata": {},
   "outputs": [],
   "source": []
  },
  {
   "cell_type": "code",
   "execution_count": null,
   "metadata": {},
   "outputs": [],
   "source": []
  },
  {
   "cell_type": "code",
   "execution_count": null,
   "metadata": {},
   "outputs": [],
   "source": []
  },
  {
   "cell_type": "code",
   "execution_count": null,
   "metadata": {},
   "outputs": [],
   "source": []
  },
  {
   "cell_type": "code",
   "execution_count": null,
   "metadata": {},
   "outputs": [],
   "source": []
  },
  {
   "cell_type": "code",
   "execution_count": null,
   "metadata": {},
   "outputs": [],
   "source": []
  }
 ],
 "metadata": {
  "kernelspec": {
   "display_name": "Python 3",
   "language": "python",
   "name": "python3"
  },
  "language_info": {
   "codemirror_mode": {
    "name": "ipython",
    "version": 2
   },
   "file_extension": ".py",
   "mimetype": "text/x-python",
   "name": "python",
   "nbconvert_exporter": "python",
   "pygments_lexer": "ipython2",
   "version": "2.7.15"
  }
 },
 "nbformat": 4,
 "nbformat_minor": 2
}
