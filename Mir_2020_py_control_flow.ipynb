{
 "cells": [
  {
   "cell_type": "code",
   "execution_count": 1,
   "metadata": {},
   "outputs": [],
   "source": [
    "from IPython.display import Image\n",
    "from IPython.core.display import HTML \n",
    "%load_ext autoreload\n",
    "%autoreload 2"
   ]
  },
  {
   "cell_type": "markdown",
   "metadata": {},
   "source": [
    "# Python Tutorial\n",
    "Be friends with Python:), what you are going to learn:\n",
    "1. Data Types\n",
    "2. Control Flow → Here!\n",
    "3. Function/ Class\n",
    "4. Module"
   ]
  },
  {
   "cell_type": "markdown",
   "metadata": {},
   "source": [
    "## Control Flow\n",
    "**Control flow statements decide where and how to execute the program.**\n",
    "**Variables can store data of different types, and different types can do different operations.** I'll introduce 3 types of control flow statements:\n",
    "* `if`\n",
    "* `for`\n",
    "* `while`\n",
    "* `break` and `continue`"
   ]
  },
  {
   "cell_type": "markdown",
   "metadata": {},
   "source": [
    "### if\n",
    "```python\n",
    "if expression_A_yields_true:\n",
    "    only_execute_section_A\n",
    "elif expression_B_yields_true: # Optional. You can have as many 'elif' section as you like\n",
    "    only_execute_section_B\n",
    "else: # Optional\n",
    "    only_execute_this_section_if_all_the_expressions_are_false\n",
    "```"
   ]
  },
  {
   "cell_type": "code",
   "execution_count": 2,
   "metadata": {},
   "outputs": [
    {
     "name": "stdout",
     "output_type": "stream",
     "text": [
      "a=1 , a is greater than zero\n"
     ]
    }
   ],
   "source": [
    "import random\n",
    "pool = [-1, 0, 1]\n",
    "a = random.choice(pool)\n",
    "\n",
    "if a < 0:\n",
    "    print (\"a={:<2d}, a is less than zero\".format(a))\n",
    "elif a == 0:\n",
    "    print (\"a={:<2d}, a is equal to zero\".format(a))\n",
    "else:\n",
    "    print (\"a={:<2d}, a is greater than zero\".format(a))"
   ]
  },
  {
   "cell_type": "markdown",
   "metadata": {},
   "source": [
    "### for\n",
    "```python\n",
    "for element in sequence: # A dicionary/string/list/...\n",
    "    execute_section\n",
    "```"
   ]
  },
  {
   "cell_type": "code",
   "execution_count": 3,
   "metadata": {},
   "outputs": [
    {
     "name": "stdout",
     "output_type": "stream",
     "text": [
      "Key-value pairs in a\n",
      "key:65 item:6655\n",
      "key:18 item:1188\n",
      "key:82 item:8822\n",
      "key:51 item:5511\n",
      "key:56 item:5566\n",
      "key:63 item:6633\n",
      "key:95 item:9955\n",
      "\n",
      "Sorted key-value pairs in a\n",
      "key:18 item:1188\n",
      "key:51 item:5511\n",
      "key:56 item:5566\n",
      "key:63 item:6633\n",
      "key:65 item:6655\n",
      "key:82 item:8822\n",
      "key:95 item:9955\n",
      "\n",
      "Characters in string: Tommy the Cat had many a story to tell.\n",
      "T o m m y   t h e   C a t   h a d   m a n y   a   s t o r y   t o   t e l l .\n"
     ]
    }
   ],
   "source": [
    "import random\n",
    "a = {63:\"6633\", 82:\"8822\", 95:\"9955\", 18:\"1188\", 51:\"5511\", 65:\"6655\", 56:\"5566\"}\n",
    "\n",
    "print (\"Key-value pairs in a\")\n",
    "for key, value in a.items(): # Access key-value pairs in a dictionary\n",
    "    print (\"key:{} item:{}\".format(key, value))\n",
    "        \n",
    "print (\"\\nSorted key-value pairs in a\")\n",
    "for key, value in sorted(a.items()): # Access key-value pairs in a dictionary with sorted()\n",
    "    print (\"key:{} item:{}\".format(key, value))\n",
    "    \n",
    "a = \"Tommy the Cat had many a story to tell.\" # Access characters in a string\n",
    "print (\"\\nCharacters in string: {}\".format(a))\n",
    "for char in a:\n",
    "    print (char),"
   ]
  },
  {
   "cell_type": "code",
   "execution_count": 4,
   "metadata": {
    "scrolled": true
   },
   "outputs": [
    {
     "name": "stdout",
     "output_type": "stream",
     "text": [
      "index:0 value:1\n",
      "index:1 value:3\n",
      "index:2 value:5\n",
      "index:3 value:7\n",
      "index:4 value:9\n",
      "index:5 value:2\n",
      "index:6 value:4\n",
      "index:7 value:6\n",
      "index:8 value:8\n",
      "index:9 value:10\n"
     ]
    }
   ],
   "source": [
    "import random\n",
    "a = [1, 3, 5, 7, 9, 2, 4, 6, 8, 10]\n",
    "idx = 0\n",
    "for value in a: # Access indices and value in a list\n",
    "    print (\"index:{} value:{}\".format(idx, value))\n",
    "    idx += 1"
   ]
  },
  {
   "cell_type": "markdown",
   "metadata": {},
   "source": [
    "* `enumerate()` : return `index` and `value`."
   ]
  },
  {
   "cell_type": "code",
   "execution_count": 5,
   "metadata": {
    "scrolled": true
   },
   "outputs": [
    {
     "name": "stdout",
     "output_type": "stream",
     "text": [
      "index:0 value:1\n",
      "index:1 value:3\n",
      "index:2 value:5\n",
      "index:3 value:7\n",
      "index:4 value:9\n",
      "index:5 value:2\n",
      "index:6 value:4\n",
      "index:7 value:6\n",
      "index:8 value:8\n",
      "index:9 value:10\n"
     ]
    }
   ],
   "source": [
    "import random\n",
    "a = [1, 3, 5, 7, 9, 2, 4, 6, 8, 10]\n",
    "for idx, value in enumerate(a): # Goal : Print the index and the value at the same time.\n",
    "    print (\"index:{} value:{}\".format(idx, value))"
   ]
  },
  {
   "cell_type": "markdown",
   "metadata": {},
   "source": [
    "* `range(start, end, increment)` : return a sequence of numbers start from `start`, increment by `increment`, and end less than `end`."
   ]
  },
  {
   "cell_type": "code",
   "execution_count": 6,
   "metadata": {
    "scrolled": false
   },
   "outputs": [
    {
     "name": "stdout",
     "output_type": "stream",
     "text": [
      "[2, 6, 12, 20, 30, 42, 56, 72, 90]\n",
      "\n",
      "Print 'Meow' 8 times\n",
      "(0, 'Meow')\n",
      "(1, 'Meow')\n",
      "(2, 'Meow')\n",
      "(3, 'Meow')\n",
      "(4, 'Meow')\n",
      "(5, 'Meow')\n",
      "(6, 'Meow')\n",
      "(7, 'Meow')\n"
     ]
    }
   ],
   "source": [
    "a = []\n",
    "for i in range(2, 20, 2): # ???\n",
    "    if len(a) == 0:\n",
    "        a.append(i)\n",
    "    else:\n",
    "        a.append(a[-1] + i)\n",
    "print (a)\n",
    "\n",
    "a = \"Meow\"\n",
    "times = int(random.random()*10)\n",
    "print (\"\\nPrint '{}' {} times\".format(a, times))\n",
    "for idx, _ in enumerate(range(times)): # Randomly select an integer A, and print 'Meow' A times.\n",
    "    print (idx, a)"
   ]
  },
  {
   "cell_type": "markdown",
   "metadata": {},
   "source": [
    "### while\n",
    "```python\n",
    "while expression:\n",
    "    execute_this_section # Execute this section as long as the expression is true\n",
    "```"
   ]
  },
  {
   "cell_type": "code",
   "execution_count": 7,
   "metadata": {},
   "outputs": [
    {
     "name": "stdout",
     "output_type": "stream",
     "text": [
      "\n",
      "Print 'Meow' 8 times\n",
      "(0, 'Meow')\n",
      "(1, 'Meow')\n",
      "(2, 'Meow')\n",
      "(3, 'Meow')\n",
      "(4, 'Meow')\n",
      "(5, 'Meow')\n",
      "(6, 'Meow')\n",
      "(7, 'Meow')\n"
     ]
    },
    {
     "data": {
      "text/plain": [
       "\"\\nwhile idx < times: # Don't do this! This is an infinite loop.\\n    print (idx, a) # Without `idx += 1`, `idx` is always less than `times`.\\n\""
      ]
     },
     "execution_count": 7,
     "metadata": {},
     "output_type": "execute_result"
    }
   ],
   "source": [
    "a = \"Meow\"\n",
    "print (\"\\nPrint '{}' {} times\".format(a, times))\n",
    "idx = 0\n",
    "\n",
    "while idx < times: # Print 'Meow' A times whilt `while`\n",
    "    print (idx, a)\n",
    "    idx += 1\n",
    "    \n",
    "\"\"\"\n",
    "while idx < times: # Don't do this! This is an infinite loop.\n",
    "    print (idx, a) # Without `idx += 1`, `idx` is always less than `times`.\n",
    "\"\"\""
   ]
  },
  {
   "cell_type": "markdown",
   "metadata": {},
   "source": [
    "### break and continue\n",
    "`break` : Terminate the loop(`for` or `while`).\n",
    "\n",
    "`continue` : Start the next iteration of the loop(`for` or `while`)."
   ]
  },
  {
   "cell_type": "code",
   "execution_count": 8,
   "metadata": {},
   "outputs": [
    {
     "name": "stdout",
     "output_type": "stream",
     "text": [
      "pool :[98, 76, 99, 82, 67, 34, 14, 33, 13, 18, 3, 17, 96, 40, 45, 66, 61, 95, 12, 25, 72, 97, 95, 25, 61, 89, 90, 42, 43, 29]\n",
      "even :[98, 76, 82, 34, 14, 18, 96, 40, 66, 12, 72, 90, 42]\n",
      "odd  :[99, 67, 33, 13, 3, 17, 45, 61, 95, 25, 97, 95, 25, 61, 89, 43, 29]\n"
     ]
    }
   ],
   "source": [
    "import random\n",
    "pool = [int(random.random()*100) for i in range(30)]\n",
    "even = []\n",
    "odd = []\n",
    "for num in pool: # Group odd and even numbers in 'pool'\n",
    "    if num % 2 == 0:\n",
    "        even.append(num)\n",
    "        continue # Try to remove this line.\n",
    "    odd.append(num)\n",
    "    \n",
    "print (\"{:<5}:{}\".format(\"pool\", pool))\n",
    "print (\"{:<5}:{}\".format(\"even\", even))\n",
    "print (\"{:<5}:{}\".format(\"odd\", odd))"
   ]
  },
  {
   "cell_type": "code",
   "execution_count": 18,
   "metadata": {},
   "outputs": [
    {
     "name": "stdout",
     "output_type": "stream",
     "text": [
      "pool         :[4, 9, 5, 6, 2, 4, 0, 8, 5, 8, 7, 4, 0, 2, 9, 0, 0, 6, 0, 7, 2, 0, 7, 6, 8, 5, 0, 9, 3, 9]\n",
      "pool_check   :[4, 9, 5, 6, 2]\n",
      "Repeat item  :4\n"
     ]
    }
   ],
   "source": [
    "pool = [int(random.random()*10) for i in range(30)]\n",
    "pool_check = []\n",
    "\n",
    "for value in pool: # Found the first repeat number in 'pool'\n",
    "    if value in pool_check:\n",
    "        print (\"{:<13}:{}\".format(\"pool\", pool))\n",
    "        print (\"{:<13}:{}\".format(\"pool_check\", pool_check))\n",
    "        print (\"{:<13}:{}\".format(\"Repeat item\", value))\n",
    "        break\n",
    "    pool_check.append(value)"
   ]
  },
  {
   "cell_type": "code",
   "execution_count": null,
   "metadata": {},
   "outputs": [],
   "source": []
  }
 ],
 "metadata": {
  "kernelspec": {
   "display_name": "Python 3",
   "language": "python",
   "name": "python3"
  },
  "language_info": {
   "codemirror_mode": {
    "name": "ipython",
    "version": 2
   },
   "file_extension": ".py",
   "mimetype": "text/x-python",
   "name": "python",
   "nbconvert_exporter": "python",
   "pygments_lexer": "ipython2",
   "version": "2.7.15"
  }
 },
 "nbformat": 4,
 "nbformat_minor": 2
}
