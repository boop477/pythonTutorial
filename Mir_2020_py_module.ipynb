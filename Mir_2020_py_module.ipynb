{
 "cells": [
  {
   "cell_type": "code",
   "execution_count": null,
   "metadata": {},
   "outputs": [],
   "source": [
    "from IPython.display import Image\n",
    "from IPython.core.display import HTML \n",
    "%load_ext autoreload\n",
    "%autoreload 2"
   ]
  },
  {
   "cell_type": "markdown",
   "metadata": {},
   "source": [
    "# Python Tutorial\n",
    "Be friends with Python:), what you are going to learn:\n",
    "1. Data Types\n",
    "2. Control Flow\n",
    "3. Function/Class\n",
    "4. Module → Here!"
   ]
  },
  {
   "cell_type": "markdown",
   "metadata": {},
   "source": [
    "## Module\n",
    "Modules split a longer prorgram into files to better maintain the program. We call those splited files 'modules'. You can further reuse your modules, or modules developed others, to develop new program."
   ]
  },
  {
   "cell_type": "markdown",
   "metadata": {},
   "source": [
    "### Import a module\n",
    "1. \n",
    "```python\n",
    "import random\n",
    "```\n",
    "2. \n",
    "```python\n",
    "from random import randint\n",
    "```\n",
    "3. \n",
    "```python\n",
    "from random import randint as ranit\n",
    "```"
   ]
  },
  {
   "cell_type": "code",
   "execution_count": null,
   "metadata": {},
   "outputs": [],
   "source": [
    "# import 'module_name'\n",
    "# To use the function : 'module_name'.'function_name'\n",
    "import random\n",
    "print (random.random())\n",
    "print (random.randint(1, 5))"
   ]
  },
  {
   "cell_type": "code",
   "execution_count": null,
   "metadata": {},
   "outputs": [],
   "source": [
    "# from 'module_name' import 'function_A'name'\n",
    "# To use function_a : 'function_A'name\n",
    "from random import randint\n",
    "print (randint())\n",
    "#print (random(1, 5)) # Broken"
   ]
  },
  {
   "cell_type": "code",
   "execution_count": 1,
   "metadata": {},
   "outputs": [
    {
     "name": "stdout",
     "output_type": "stream",
     "text": [
      "0.890691929441\n"
     ]
    }
   ],
   "source": [
    "# from 'module_name' import 'function_A'name' as 'alias'\n",
    "# To use function_a : `alias`\n",
    "from random import randint as ranit\n",
    "print (ranit())\n",
    "#print (randint()) # Broken"
   ]
  },
  {
   "cell_type": "markdown",
   "metadata": {},
   "source": [
    "### Write a Module\n",
    "See `./Module`."
   ]
  },
  {
   "cell_type": "markdown",
   "metadata": {},
   "source": [
    "### Numpy\n",
    "A Module for scientific computing in python."
   ]
  },
  {
   "cell_type": "code",
   "execution_count": 16,
   "metadata": {},
   "outputs": [
    {
     "name": "stdout",
     "output_type": "stream",
     "text": [
      "[[1 2 3]\n",
      " [4 5 6]]\n",
      "<type 'numpy.ndarray'>\n",
      "shape     :(2, 3)\n",
      "data type :int64\n",
      "\n",
      "[[1. 2. 3.]\n",
      " [4. 5. 6.]]\n",
      "<type 'numpy.ndarray'>\n",
      "shape     :(2, 3)\n",
      "data type :float64\n",
      "\n",
      "(1, 1)\n",
      "[[1 2]]\n"
     ]
    }
   ],
   "source": [
    "import numpy as np\n",
    "\n",
    "# Basic unit: Array\n",
    "a = np.array([[1, 2, 3],[4, 5, 6]]) # Initialize an array\n",
    "print (a)\n",
    "print (type(a))\n",
    "print (\"{:<10}:{}\".format(\"shape\", a.shape)) # Print shape\n",
    "print (\"{:<10}:{}\\n\".format(\"data type\", a.dtype)) # Print datatypes of elements\n",
    "\n",
    "b = a.astype(np.float64) # Change datatypes\n",
    "print (b)\n",
    "print (type(a))\n",
    "print (\"{:<10}:{}\".format(\"shape\", b.shape))\n",
    "print (\"{:<10}:{}\\n\".format(\"data type\", b.dtype))\n",
    "\n",
    "print (a[0,0], a[0,0]) # Indexing\n",
    "print (a[:-1, :-1]) # Slicing"
   ]
  },
  {
   "cell_type": "code",
   "execution_count": 44,
   "metadata": {},
   "outputs": [
    {
     "name": "stdout",
     "output_type": "stream",
     "text": [
      "('a', array([[0., 1., 2.],\n",
      "       [3., 4., 5.],\n",
      "       [6., 7., 8.]]))\n",
      "('b', array([[ 5.,  6.,  7.],\n",
      "       [ 8.,  9., 10.],\n",
      "       [11., 12., 13.]]))\n",
      "('a-b', array([[-5., -5., -5.],\n",
      "       [-5., -5., -5.],\n",
      "       [-5., -5., -5.]]))\n",
      "('a+b', array([[ 5.,  7.,  9.],\n",
      "       [11., 13., 15.],\n",
      "       [17., 19., 21.]]))\n",
      "('a*b', array([[  0.,   6.,  14.],\n",
      "       [ 24.,  36.,  50.],\n",
      "       [ 66.,  84., 104.]]))\n",
      "('a/b', array([[0.        , 0.16666667, 0.28571429],\n",
      "       [0.375     , 0.44444444, 0.5       ],\n",
      "       [0.54545455, 0.58333333, 0.61538462]]))\n",
      "('a*3', array([[ 0.,  3.,  6.],\n",
      "       [ 9., 12., 15.],\n",
      "       [18., 21., 24.]]))\n",
      "('tmp', array([[1],\n",
      "       [2],\n",
      "       [3]]))\n",
      "('a*tmp', array([[ 0.,  1.,  2.],\n",
      "       [ 6.,  8., 10.],\n",
      "       [18., 21., 24.]]))\n"
     ]
    }
   ],
   "source": [
    "a = np.arange(9).reshape(3, 3).astype(np.float64)\n",
    "b = np.arange(5, 14).reshape(3, 3).astype(np.float64)\n",
    "\n",
    "print (\"a\", a)\n",
    "print (\"b\", b)\n",
    "\n",
    "print (\"a-b\", a-b) # Elementwise difference\n",
    "print (\"a+b\", a+b) # Elementwise sum\n",
    "print (\"a*b\", a*b) # Elementwise product\n",
    "print (\"a/b\", a/b) # Elementwise dicition\n",
    "\n",
    "print (\"a*3\", a*3) # Broadcast\n",
    "tmp = np.array([1, 2, 3]).reshape(3, 1)\n",
    "print (\"tmp\", tmp)\n",
    "print (\"a*tmp\", a*tmp) # Broadcast"
   ]
  },
  {
   "cell_type": "code",
   "execution_count": null,
   "metadata": {},
   "outputs": [],
   "source": []
  },
  {
   "cell_type": "code",
   "execution_count": null,
   "metadata": {},
   "outputs": [],
   "source": []
  },
  {
   "cell_type": "code",
   "execution_count": null,
   "metadata": {},
   "outputs": [],
   "source": []
  },
  {
   "cell_type": "code",
   "execution_count": null,
   "metadata": {},
   "outputs": [],
   "source": []
  },
  {
   "cell_type": "code",
   "execution_count": null,
   "metadata": {},
   "outputs": [],
   "source": []
  },
  {
   "cell_type": "code",
   "execution_count": null,
   "metadata": {},
   "outputs": [],
   "source": []
  }
 ],
 "metadata": {
  "kernelspec": {
   "display_name": "Python 3",
   "language": "python",
   "name": "python3"
  },
  "language_info": {
   "codemirror_mode": {
    "name": "ipython",
    "version": 2
   },
   "file_extension": ".py",
   "mimetype": "text/x-python",
   "name": "python",
   "nbconvert_exporter": "python",
   "pygments_lexer": "ipython2",
   "version": "2.7.15"
  }
 },
 "nbformat": 4,
 "nbformat_minor": 2
}
